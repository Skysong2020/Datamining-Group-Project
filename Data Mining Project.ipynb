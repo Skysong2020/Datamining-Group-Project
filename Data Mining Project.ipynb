{
 "cells": [
  {
   "cell_type": "code",
   "execution_count": 2,
   "metadata": {},
   "outputs": [],
   "source": [
    "# Pandas - Data manipulation and analysis library\n",
    "import pandas as pd\n",
    "# NumPy - mathematical functions on multi-dimensional arrays and matrices\n",
    "import numpy as np\n",
    "\n",
    "from scipy import stats\n",
    "\n",
    "import seaborn as sns\n",
    "# Matplotlib - plotting library to create graphs and charts\n",
    "import matplotlib.pyplot as plt"
   ]
  },
  {
   "cell_type": "code",
   "execution_count": null,
   "metadata": {},
   "outputs": [],
   "source": []
  },
  {
   "cell_type": "code",
   "execution_count": 3,
   "metadata": {},
   "outputs": [],
   "source": [
    "df_OPA= pd.read_csv(r'C:\\Users\\user\\OneDrive\\Desktop\\CIS 9660 Group Project\\Open_Restaurant_Applications.csv')"
   ]
  },
  {
   "cell_type": "code",
   "execution_count": 4,
   "metadata": {},
   "outputs": [],
   "source": [
    "df_RI=pd.read_csv(r'C:\\Users\\user\\OneDrive\\Desktop\\CIS 9660 Group Project\\Rodent_Inspection.csv')"
   ]
  },
  {
   "cell_type": "code",
   "execution_count": 55,
   "metadata": {},
   "outputs": [],
   "source": [
    "#df_OPA.head(10)"
   ]
  },
  {
   "cell_type": "code",
   "execution_count": 5,
   "metadata": {},
   "outputs": [
    {
     "data": {
      "text/plain": [
       "(12119, 35)"
      ]
     },
     "execution_count": 5,
     "metadata": {},
     "output_type": "execute_result"
    }
   ],
   "source": [
    "df_OPA.shape # Analysis in other file "
   ]
  },
  {
   "cell_type": "code",
   "execution_count": 6,
   "metadata": {
    "scrolled": true
   },
   "outputs": [
    {
     "data": {
      "text/html": [
       "<div>\n",
       "<style scoped>\n",
       "    .dataframe tbody tr th:only-of-type {\n",
       "        vertical-align: middle;\n",
       "    }\n",
       "\n",
       "    .dataframe tbody tr th {\n",
       "        vertical-align: top;\n",
       "    }\n",
       "\n",
       "    .dataframe thead th {\n",
       "        text-align: right;\n",
       "    }\n",
       "</style>\n",
       "<table border=\"1\" class=\"dataframe\">\n",
       "  <thead>\n",
       "    <tr style=\"text-align: right;\">\n",
       "      <th></th>\n",
       "      <th>INSPECTION_TYPE</th>\n",
       "      <th>JOB_TICKET_OR_WORK_ORDER_ID</th>\n",
       "      <th>JOB_ID</th>\n",
       "      <th>JOB_PROGRESS</th>\n",
       "      <th>BBL</th>\n",
       "      <th>BORO_CODE</th>\n",
       "      <th>BLOCK</th>\n",
       "      <th>LOT</th>\n",
       "      <th>HOUSE_NUMBER</th>\n",
       "      <th>STREET_NAME</th>\n",
       "      <th>ZIP_CODE</th>\n",
       "      <th>X_COORD</th>\n",
       "      <th>Y_COORD</th>\n",
       "      <th>LATITUDE</th>\n",
       "      <th>LONGITUDE</th>\n",
       "      <th>BOROUGH</th>\n",
       "      <th>INSPECTION_DATE</th>\n",
       "      <th>RESULT</th>\n",
       "      <th>APPROVED_DATE</th>\n",
       "      <th>LOCATION</th>\n",
       "    </tr>\n",
       "  </thead>\n",
       "  <tbody>\n",
       "    <tr>\n",
       "      <th>0</th>\n",
       "      <td>Initial</td>\n",
       "      <td>13186061</td>\n",
       "      <td>7644998</td>\n",
       "      <td>1</td>\n",
       "      <td>4035770010</td>\n",
       "      <td>4</td>\n",
       "      <td>3577</td>\n",
       "      <td>10</td>\n",
       "      <td>NaN</td>\n",
       "      <td>NaN</td>\n",
       "      <td>11385.0</td>\n",
       "      <td>NaN</td>\n",
       "      <td>NaN</td>\n",
       "      <td>NaN</td>\n",
       "      <td>NaN</td>\n",
       "      <td>Queens</td>\n",
       "      <td>09/23/2020 12:10:39 PM</td>\n",
       "      <td>Rat Activity</td>\n",
       "      <td>09/28/2020 12:07:03 PM</td>\n",
       "      <td>NaN</td>\n",
       "    </tr>\n",
       "    <tr>\n",
       "      <th>1</th>\n",
       "      <td>Initial</td>\n",
       "      <td>13185535</td>\n",
       "      <td>7644433</td>\n",
       "      <td>1</td>\n",
       "      <td>3031370001</td>\n",
       "      <td>3</td>\n",
       "      <td>3137</td>\n",
       "      <td>1</td>\n",
       "      <td>NaN</td>\n",
       "      <td>NaN</td>\n",
       "      <td>11206.0</td>\n",
       "      <td>NaN</td>\n",
       "      <td>NaN</td>\n",
       "      <td>NaN</td>\n",
       "      <td>NaN</td>\n",
       "      <td>Brooklyn</td>\n",
       "      <td>09/22/2020 09:43:43 AM</td>\n",
       "      <td>Failed for Other R</td>\n",
       "      <td>09/28/2020 10:55:37 PM</td>\n",
       "      <td>NaN</td>\n",
       "    </tr>\n",
       "    <tr>\n",
       "      <th>2</th>\n",
       "      <td>Initial</td>\n",
       "      <td>13185270</td>\n",
       "      <td>7644376</td>\n",
       "      <td>1</td>\n",
       "      <td>4115520091</td>\n",
       "      <td>4</td>\n",
       "      <td>11552</td>\n",
       "      <td>91</td>\n",
       "      <td>NaN</td>\n",
       "      <td>NaN</td>\n",
       "      <td>11417.0</td>\n",
       "      <td>NaN</td>\n",
       "      <td>NaN</td>\n",
       "      <td>NaN</td>\n",
       "      <td>NaN</td>\n",
       "      <td>Queens</td>\n",
       "      <td>09/22/2020 08:34:00 AM</td>\n",
       "      <td>Failed for Other R</td>\n",
       "      <td>09/28/2020 01:09:16 PM</td>\n",
       "      <td>NaN</td>\n",
       "    </tr>\n",
       "    <tr>\n",
       "      <th>3</th>\n",
       "      <td>Initial</td>\n",
       "      <td>13185931</td>\n",
       "      <td>7644978</td>\n",
       "      <td>1</td>\n",
       "      <td>3033160032</td>\n",
       "      <td>3</td>\n",
       "      <td>3316</td>\n",
       "      <td>32</td>\n",
       "      <td>NaN</td>\n",
       "      <td>NaN</td>\n",
       "      <td>11237.0</td>\n",
       "      <td>NaN</td>\n",
       "      <td>NaN</td>\n",
       "      <td>NaN</td>\n",
       "      <td>NaN</td>\n",
       "      <td>Brooklyn</td>\n",
       "      <td>09/23/2020 10:31:32 AM</td>\n",
       "      <td>Passed</td>\n",
       "      <td>09/28/2020 10:55:25 PM</td>\n",
       "      <td>NaN</td>\n",
       "    </tr>\n",
       "    <tr>\n",
       "      <th>4</th>\n",
       "      <td>Initial</td>\n",
       "      <td>13186672</td>\n",
       "      <td>7644397</td>\n",
       "      <td>1</td>\n",
       "      <td>3031870055</td>\n",
       "      <td>3</td>\n",
       "      <td>3187</td>\n",
       "      <td>55</td>\n",
       "      <td>131</td>\n",
       "      <td>STARR STREET</td>\n",
       "      <td>11237.0</td>\n",
       "      <td>1005046.0</td>\n",
       "      <td>195490.0</td>\n",
       "      <td>40.70322</td>\n",
       "      <td>-73.924996</td>\n",
       "      <td>Brooklyn</td>\n",
       "      <td>09/28/2020 01:07:05 PM</td>\n",
       "      <td>Rat Activity</td>\n",
       "      <td>09/28/2020 10:54:48 PM</td>\n",
       "      <td>(40.703220245028, -73.924996432938)</td>\n",
       "    </tr>\n",
       "  </tbody>\n",
       "</table>\n",
       "</div>"
      ],
      "text/plain": [
       "  INSPECTION_TYPE  JOB_TICKET_OR_WORK_ORDER_ID   JOB_ID  JOB_PROGRESS  \\\n",
       "0         Initial                     13186061  7644998             1   \n",
       "1         Initial                     13185535  7644433             1   \n",
       "2         Initial                     13185270  7644376             1   \n",
       "3         Initial                     13185931  7644978             1   \n",
       "4         Initial                     13186672  7644397             1   \n",
       "\n",
       "          BBL  BORO_CODE  BLOCK  LOT HOUSE_NUMBER   STREET_NAME  ZIP_CODE  \\\n",
       "0  4035770010          4   3577   10          NaN           NaN   11385.0   \n",
       "1  3031370001          3   3137    1          NaN           NaN   11206.0   \n",
       "2  4115520091          4  11552   91          NaN           NaN   11417.0   \n",
       "3  3033160032          3   3316   32          NaN           NaN   11237.0   \n",
       "4  3031870055          3   3187   55          131  STARR STREET   11237.0   \n",
       "\n",
       "     X_COORD   Y_COORD  LATITUDE  LONGITUDE   BOROUGH         INSPECTION_DATE  \\\n",
       "0        NaN       NaN       NaN        NaN    Queens  09/23/2020 12:10:39 PM   \n",
       "1        NaN       NaN       NaN        NaN  Brooklyn  09/22/2020 09:43:43 AM   \n",
       "2        NaN       NaN       NaN        NaN    Queens  09/22/2020 08:34:00 AM   \n",
       "3        NaN       NaN       NaN        NaN  Brooklyn  09/23/2020 10:31:32 AM   \n",
       "4  1005046.0  195490.0  40.70322 -73.924996  Brooklyn  09/28/2020 01:07:05 PM   \n",
       "\n",
       "               RESULT           APPROVED_DATE  \\\n",
       "0        Rat Activity  09/28/2020 12:07:03 PM   \n",
       "1  Failed for Other R  09/28/2020 10:55:37 PM   \n",
       "2  Failed for Other R  09/28/2020 01:09:16 PM   \n",
       "3              Passed  09/28/2020 10:55:25 PM   \n",
       "4        Rat Activity  09/28/2020 10:54:48 PM   \n",
       "\n",
       "                              LOCATION  \n",
       "0                                  NaN  \n",
       "1                                  NaN  \n",
       "2                                  NaN  \n",
       "3                                  NaN  \n",
       "4  (40.703220245028, -73.924996432938)  "
      ]
     },
     "execution_count": 6,
     "metadata": {},
     "output_type": "execute_result"
    }
   ],
   "source": [
    "df_RI.head(5)"
   ]
  },
  {
   "cell_type": "code",
   "execution_count": 32,
   "metadata": {},
   "outputs": [
    {
     "data": {
      "text/plain": [
       "(1916105, 20)"
      ]
     },
     "execution_count": 32,
     "metadata": {},
     "output_type": "execute_result"
    }
   ],
   "source": [
    "df_RI.shape "
   ]
  },
  {
   "cell_type": "code",
   "execution_count": 44,
   "metadata": {},
   "outputs": [
    {
     "data": {
      "text/plain": [
       "Index(['INSPECTION_TYPE', 'JOB_TICKET_OR_WORK_ORDER_ID', 'JOB_ID',\n",
       "       'JOB_PROGRESS', 'BBL', 'BORO_CODE', 'BLOCK', 'LOT', 'HOUSE_NUMBER',\n",
       "       'STREET_NAME', 'ZIP_CODE', 'X_COORD', 'Y_COORD', 'LATITUDE',\n",
       "       'LONGITUDE', 'BOROUGH', 'INSPECTION_DATE', 'RESULT', 'APPROVED_DATE',\n",
       "       'LOCATION'],\n",
       "      dtype='object')"
      ]
     },
     "execution_count": 44,
     "metadata": {},
     "output_type": "execute_result"
    }
   ],
   "source": [
    "names=df_RI.columns\n",
    "names"
   ]
  },
  {
   "cell_type": "code",
   "execution_count": null,
   "metadata": {},
   "outputs": [],
   "source": [
    "#BBL: Borough, Block, and Lot code, which is a unique identifier of NYC Taxlots. \n",
    "# Every NYC property has its own BBL code, and inspections are conducted at the taxlot level. \n",
    "# This dataset can be mapped by joining these inspectional results to a taxlot geography file \n",
    "# such as the Department of City Planning’s PLUTO dataset."
   ]
  },
  {
   "cell_type": "code",
   "execution_count": null,
   "metadata": {},
   "outputs": [],
   "source": [
    "# Result of the inspection, including: Active Rat Signs (ARS) - ARS include any of six different signs: \n",
    "# 1) fresh tracks, 2) fresh droppings, 3) active burrows, 4) active runways and rub marks, 5) fresh gnawing marks, \n",
    "# and 6) live rats. Problem Conditions - Problem conditions include garbage \n",
    "# (poor containerization of food waste resulting in the feeding of rats), \n",
    "# harborage (clutter and dense vegetation promoting the nesting of rats), and mice."
   ]
  },
  {
   "cell_type": "code",
   "execution_count": 7,
   "metadata": {},
   "outputs": [
    {
     "data": {
      "text/plain": [
       "INSPECTION_TYPE                    0\n",
       "JOB_TICKET_OR_WORK_ORDER_ID        0\n",
       "JOB_ID                             0\n",
       "JOB_PROGRESS                       0\n",
       "BBL                                0\n",
       "BORO_CODE                          0\n",
       "BLOCK                              0\n",
       "LOT                                0\n",
       "HOUSE_NUMBER                   46219\n",
       "STREET_NAME                     3041\n",
       "ZIP_CODE                       10193\n",
       "X_COORD                        59905\n",
       "Y_COORD                        59905\n",
       "LATITUDE                        3640\n",
       "LONGITUDE                       3640\n",
       "BOROUGH                            0\n",
       "INSPECTION_DATE                   17\n",
       "RESULT                             6\n",
       "APPROVED_DATE                    131\n",
       "LOCATION                        4270\n",
       "dtype: int64"
      ]
     },
     "execution_count": 7,
     "metadata": {},
     "output_type": "execute_result"
    }
   ],
   "source": [
    "df_RI.isnull().sum()"
   ]
  },
  {
   "cell_type": "code",
   "execution_count": 11,
   "metadata": {},
   "outputs": [
    {
     "data": {
      "text/html": [
       "<div>\n",
       "<style scoped>\n",
       "    .dataframe tbody tr th:only-of-type {\n",
       "        vertical-align: middle;\n",
       "    }\n",
       "\n",
       "    .dataframe tbody tr th {\n",
       "        vertical-align: top;\n",
       "    }\n",
       "\n",
       "    .dataframe thead th {\n",
       "        text-align: right;\n",
       "    }\n",
       "</style>\n",
       "<table border=\"1\" class=\"dataframe\">\n",
       "  <thead>\n",
       "    <tr style=\"text-align: right;\">\n",
       "      <th></th>\n",
       "      <th>ZIP_CODE</th>\n",
       "      <th>BOROUGH</th>\n",
       "      <th>RESULT</th>\n",
       "    </tr>\n",
       "  </thead>\n",
       "  <tbody>\n",
       "    <tr>\n",
       "      <th>0</th>\n",
       "      <td>11385.0</td>\n",
       "      <td>Queens</td>\n",
       "      <td>Rat Activity</td>\n",
       "    </tr>\n",
       "    <tr>\n",
       "      <th>1</th>\n",
       "      <td>11206.0</td>\n",
       "      <td>Brooklyn</td>\n",
       "      <td>Failed for Other R</td>\n",
       "    </tr>\n",
       "    <tr>\n",
       "      <th>2</th>\n",
       "      <td>11417.0</td>\n",
       "      <td>Queens</td>\n",
       "      <td>Failed for Other R</td>\n",
       "    </tr>\n",
       "    <tr>\n",
       "      <th>3</th>\n",
       "      <td>11237.0</td>\n",
       "      <td>Brooklyn</td>\n",
       "      <td>Passed</td>\n",
       "    </tr>\n",
       "    <tr>\n",
       "      <th>4</th>\n",
       "      <td>11237.0</td>\n",
       "      <td>Brooklyn</td>\n",
       "      <td>Rat Activity</td>\n",
       "    </tr>\n",
       "    <tr>\n",
       "      <th>...</th>\n",
       "      <td>...</td>\n",
       "      <td>...</td>\n",
       "      <td>...</td>\n",
       "    </tr>\n",
       "    <tr>\n",
       "      <th>1916100</th>\n",
       "      <td>11219.0</td>\n",
       "      <td>Brooklyn</td>\n",
       "      <td>Passed</td>\n",
       "    </tr>\n",
       "    <tr>\n",
       "      <th>1916101</th>\n",
       "      <td>10452.0</td>\n",
       "      <td>Bronx</td>\n",
       "      <td>Passed</td>\n",
       "    </tr>\n",
       "    <tr>\n",
       "      <th>1916102</th>\n",
       "      <td>10028.0</td>\n",
       "      <td>Manhattan</td>\n",
       "      <td>Failed for Other R</td>\n",
       "    </tr>\n",
       "    <tr>\n",
       "      <th>1916103</th>\n",
       "      <td>10453.0</td>\n",
       "      <td>Bronx</td>\n",
       "      <td>Stoppage done</td>\n",
       "    </tr>\n",
       "    <tr>\n",
       "      <th>1916104</th>\n",
       "      <td>11206.0</td>\n",
       "      <td>Brooklyn</td>\n",
       "      <td>Rat Activity</td>\n",
       "    </tr>\n",
       "  </tbody>\n",
       "</table>\n",
       "<p>1916105 rows × 3 columns</p>\n",
       "</div>"
      ],
      "text/plain": [
       "         ZIP_CODE    BOROUGH              RESULT\n",
       "0         11385.0     Queens        Rat Activity\n",
       "1         11206.0   Brooklyn  Failed for Other R\n",
       "2         11417.0     Queens  Failed for Other R\n",
       "3         11237.0   Brooklyn              Passed\n",
       "4         11237.0   Brooklyn        Rat Activity\n",
       "...           ...        ...                 ...\n",
       "1916100   11219.0   Brooklyn              Passed\n",
       "1916101   10452.0      Bronx              Passed\n",
       "1916102   10028.0  Manhattan  Failed for Other R\n",
       "1916103   10453.0      Bronx       Stoppage done\n",
       "1916104   11206.0   Brooklyn        Rat Activity\n",
       "\n",
       "[1916105 rows x 3 columns]"
      ]
     },
     "execution_count": 11,
     "metadata": {},
     "output_type": "execute_result"
    }
   ],
   "source": [
    "df_RI[['ZIP_CODE','BOROUGH','RESULT']]"
   ]
  },
  {
   "cell_type": "code",
   "execution_count": 18,
   "metadata": {
    "scrolled": false
   },
   "outputs": [
    {
     "data": {
      "image/png": "[encoded data removed]",
      "text/plain": [
       "<Figure size 432x288 with 1 Axes>"
      ]
     },
     "metadata": {
      "needs_background": "light"
     },
     "output_type": "display_data"
    },
    {
     "data": {
      "text/plain": [
       "Manhattan        612621\n",
       "Bronx            572983\n",
       "Brooklyn         499545\n",
       "Queens           177067\n",
       "Staten Island     53889\n",
       "Name: BOROUGH, dtype: int64"
      ]
     },
     "execution_count": 18,
     "metadata": {},
     "output_type": "execute_result"
    }
   ],
   "source": [
    "df_RI['BOROUGH'].value_counts().plot(kind='bar')\n",
    "plt.show()\n",
    "region_inspection_count=df_RI['BOROUGH'].value_counts()\n",
    "region_inspection_count"
   ]
  },
  {
   "cell_type": "code",
   "execution_count": 16,
   "metadata": {},
   "outputs": [
    {
     "data": {
      "image/png": "[encoded data removed]",
      "text/plain": [
       "<Figure size 432x288 with 1 Axes>"
      ]
     },
     "metadata": {
      "needs_background": "light"
     },
     "output_type": "display_data"
    },
    {
     "data": {
      "text/plain": [
       "Bronx            80963\n",
       "Manhattan        75608\n",
       "Brooklyn         72450\n",
       "Queens           15097\n",
       "Staten Island     2813\n",
       "Name: BOROUGH, dtype: int64"
      ]
     },
     "execution_count": 16,
     "metadata": {},
     "output_type": "execute_result"
    }
   ],
   "source": [
    "df_RI[df_RI[\"RESULT\"]=='Rat Activity']['BOROUGH'].value_counts().plot(kind='bar')\n",
    "plt.show()\n",
    "region_activity_count=df_RI[df_RI[\"RESULT\"]=='Rat Activity']['BOROUGH'].value_counts()\n",
    "region_activity_count"
   ]
  },
  {
   "cell_type": "code",
   "execution_count": 63,
   "metadata": {},
   "outputs": [
    {
     "data": {
      "text/plain": [
       "Manhattan        612621\n",
       "Bronx            572983\n",
       "Brooklyn         499545\n",
       "Queens           177067\n",
       "Staten Island     53889\n",
       "Name: BOROUGH, dtype: int64"
      ]
     },
     "execution_count": 63,
     "metadata": {},
     "output_type": "execute_result"
    }
   ],
   "source": [
    "borough_count=df_RI['BOROUGH'].value_counts()\n",
    "borough_count"
   ]
  },
  {
   "cell_type": "code",
   "execution_count": 74,
   "metadata": {},
   "outputs": [
    {
     "data": {
      "text/plain": [
       "Bronx            0.141301\n",
       "Brooklyn         0.145032\n",
       "Manhattan        0.123417\n",
       "Queens           0.085262\n",
       "Staten Island    0.052200\n",
       "Name: BOROUGH, dtype: float64"
      ]
     },
     "execution_count": 74,
     "metadata": {},
     "output_type": "execute_result"
    },
    {
     "data": {
      "image/png": "[encoded data removed]",
      "text/plain": [
       "<Figure size 432x288 with 1 Axes>"
      ]
     },
     "metadata": {
      "needs_background": "light"
     },
     "output_type": "display_data"
    }
   ],
   "source": [
    "Rat_activity_rate=region_activity_count/borough_count\n",
    "Rat_activity_rate.plot(kind='bar')\n",
    "Rat_activity_rate"
   ]
  },
  {
   "cell_type": "code",
   "execution_count": 65,
   "metadata": {},
   "outputs": [
    {
     "data": {
      "text/plain": [
       "Passed                1195180\n",
       "Bait applied           248144\n",
       "Rat Activity           246931\n",
       "Failed for Other R     191456\n",
       "Monitoring visit        32614\n",
       "Cleanup done             1564\n",
       "Stoppage done             210\n",
       "Name: RESULT, dtype: int64"
      ]
     },
     "execution_count": 65,
     "metadata": {},
     "output_type": "execute_result"
    }
   ],
   "source": [
    "df_RI['RESULT'].value_counts()"
   ]
  },
  {
   "cell_type": "code",
   "execution_count": null,
   "metadata": {},
   "outputs": [],
   "source": []
  }
 ],
 "metadata": {
  "kernelspec": {
   "display_name": "Python 3",
   "language": "python",
   "name": "python3"
  },
  "language_info": {
   "codemirror_mode": {
    "name": "ipython",
    "version": 3
   },
   "file_extension": ".py",
   "mimetype": "text/x-python",
   "name": "python",
   "nbconvert_exporter": "python",
   "pygments_lexer": "ipython3",
   "version": "3.8.3"
  }
 },
 "nbformat": 4,
 "nbformat_minor": 4
}
